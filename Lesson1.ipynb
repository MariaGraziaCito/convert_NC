{
  "nbformat": 4,
  "nbformat_minor": 0,
  "metadata": {
    "colab": {
      "provenance": [],
      "authorship_tag": "ABX9TyOUBK5JjAkPzz2Wt26gacpm",
      "include_colab_link": true
    },
    "kernelspec": {
      "name": "python3",
      "display_name": "Python 3"
    },
    "language_info": {
      "name": "python"
    }
  },
  "cells": [
    {
      "cell_type": "markdown",
      "metadata": {
        "id": "view-in-github",
        "colab_type": "text"
      },
      "source": [
        "<a href=\"https://colab.research.google.com/github/MariaGraziaCito/convert_NC/blob/main/Lesson1.ipynb\" target=\"_parent\"><img src=\"https://colab.research.google.com/assets/colab-badge.svg\" alt=\"Open In Colab\"/></a>"
      ]
    },
    {
      "cell_type": "markdown",
      "source": [
        "Dichiarazione delle variabili"
      ],
      "metadata": {
        "id": "PJlhIZDfBmbR"
      }
    },
    {
      "cell_type": "code",
      "execution_count": 1,
      "metadata": {
        "colab": {
          "base_uri": "https://localhost:8080/"
        },
        "id": "gIg7Hr_bBUOp",
        "outputId": "5a2ea058-c75d-4469-b840-4a19f1672058"
      },
      "outputs": [
        {
          "output_type": "stream",
          "name": "stdout",
          "text": [
            "abc 12 None\n"
          ]
        }
      ],
      "source": [
        "a_string = 'abc'\n",
        "a_int = 12\n",
        "a_float = 3.14\n",
        "a_boolean = False\n",
        "nothing = None\n",
        "print(a_string, a_int, nothing)"
      ]
    },
    {
      "cell_type": "markdown",
      "source": [
        "Operazioni con le stringhe"
      ],
      "metadata": {
        "id": "rTQmKApXCHR4"
      }
    },
    {
      "cell_type": "code",
      "source": [
        "string1 = 'abc'\n",
        "string2 = 'def'\n",
        "\n",
        "string_new = string1 +\" \"+ string2 #concatenzione stringhe\n",
        "print(string_new)\n",
        "\n",
        "print(len(string_new)) #lunghezza della stringa\n",
        "\n",
        "upper_string = string_new.upper()\n",
        "print(upper_string)\n",
        "\n",
        "stripped_string = upper_string.strip() #toglie spazi all'inizio o alla fine\n",
        "print(stripped_string)\n",
        "\n",
        "stripped_string2 = upper_string.replace(' ', '') #toglie spazi in mezzo\n",
        "print(stripped_string2)\n",
        "\n",
        "i = 12\n",
        "s = str(i) #converto un intero in una stringa"
      ],
      "metadata": {
        "colab": {
          "base_uri": "https://localhost:8080/"
        },
        "id": "XF1DiTp7CKw5",
        "outputId": "1f050458-9217-4aaf-9059-8f5f3bc53ff6"
      },
      "execution_count": 8,
      "outputs": [
        {
          "output_type": "stream",
          "name": "stdout",
          "text": [
            "abc def\n",
            "7\n",
            "ABC DEF\n",
            "ABC DEF\n",
            "ABCDEF\n"
          ]
        }
      ]
    },
    {
      "cell_type": "markdown",
      "source": [
        "Operazioni con le liste"
      ],
      "metadata": {
        "id": "rg53bvRdEKZ9"
      }
    },
    {
      "cell_type": "code",
      "source": [
        "my_list = [1,2,3,4,5] #deifnizione di una lista\n",
        "print(my_list[0]) #ricorda: gli indizi partono da 0\n",
        "try:\n",
        "  print(my_list[5])\n",
        "except:\n",
        "  print('indice della lista sbagliato')\n",
        "\n",
        "my_list[4] = 6 #nuova assegnazione di valore\n",
        "my_list.append(7) #aggiungere un nuovo elemento alla lista\n",
        "my_list. remove(6) #eleminazione elemento per valore\n",
        "print(len(my_list)) #lunghezza della lista"
      ],
      "metadata": {
        "colab": {
          "base_uri": "https://localhost:8080/"
        },
        "id": "6FXZflPfEO2n",
        "outputId": "e2de6a2b-fe6f-4282-a998-a63797a787d6"
      },
      "execution_count": 12,
      "outputs": [
        {
          "output_type": "stream",
          "name": "stdout",
          "text": [
            "1\n",
            "indice della lista sbagliato\n",
            "5\n"
          ]
        }
      ]
    },
    {
      "cell_type": "markdown",
      "source": [
        "Slicing"
      ],
      "metadata": {
        "id": "EUczYkx5FhdR"
      }
    },
    {
      "cell_type": "code",
      "source": [
        "print(my_list[0:2]) #primi 2 elementi\n",
        "print(my_list[1:])\n",
        "print(my_list[:3]) #fino ad indice 3"
      ],
      "metadata": {
        "colab": {
          "base_uri": "https://localhost:8080/"
        },
        "id": "ZnmDHZ16FikK",
        "outputId": "d9afd0e4-80d3-4893-fb94-41d4bdd77bdc"
      },
      "execution_count": 15,
      "outputs": [
        {
          "output_type": "stream",
          "name": "stdout",
          "text": [
            "[1, 2]\n",
            "[2, 3, 4, 7]\n",
            "[1, 2, 3]\n"
          ]
        }
      ]
    },
    {
      "cell_type": "markdown",
      "source": [
        "Tuple"
      ],
      "metadata": {
        "id": "LUnVv92HGHqq"
      }
    },
    {
      "cell_type": "code",
      "source": [
        "tupla1 = (1,2,3, 'abc')\n",
        "tupla2 = 1,2,3, 'abc'"
      ],
      "metadata": {
        "id": "RqaYenOwGIgW"
      },
      "execution_count": 16,
      "outputs": []
    },
    {
      "cell_type": "markdown",
      "source": [
        "Dizionari"
      ],
      "metadata": {
        "id": "u4guyCpZGjFj"
      }
    },
    {
      "cell_type": "code",
      "source": [
        "my_dict = {'it':'italia', 'de':'germania', 'en':'inghilterra'}\n",
        "print(my_dict)\n",
        "\n",
        "my_dict['fr'] = 'francia' #aggiunge un elemento al dizionario\n",
        "print(my_dict)\n",
        "\n",
        "my_dict.pop('it') #rimuove un elemento dal dizionario\n",
        "print(my_dict)\n",
        "\n",
        "print(my_dict.keys()) #stampa le chiavi\n",
        "print(my_dict.items()) #stampa le tuple"
      ],
      "metadata": {
        "colab": {
          "base_uri": "https://localhost:8080/"
        },
        "id": "cb3xy4FxGn3G",
        "outputId": "80f895c0-f823-4d66-fae4-8faa9fb5019b"
      },
      "execution_count": 22,
      "outputs": [
        {
          "output_type": "stream",
          "name": "stdout",
          "text": [
            "{'it': 'italia', 'de': 'germania', 'en': 'inghilterra'}\n",
            "{'it': 'italia', 'de': 'germania', 'en': 'inghilterra', 'fr': 'francia'}\n",
            "{'de': 'germania', 'en': 'inghilterra', 'fr': 'francia'}\n",
            "dict_keys(['de', 'en', 'fr'])\n",
            "dict_items([('de', 'germania'), ('en', 'inghilterra'), ('fr', 'francia')])\n"
          ]
        }
      ]
    },
    {
      "cell_type": "markdown",
      "source": [
        "Costrutti"
      ],
      "metadata": {
        "id": "eZ1GLFHFHn56"
      }
    },
    {
      "cell_type": "code",
      "source": [
        "#if/else\n",
        "if a==3:\n",
        "  print('yes')\n",
        "else:\n",
        "  print('no')"
      ],
      "metadata": {
        "colab": {
          "base_uri": "https://localhost:8080/",
          "height": 211
        },
        "id": "CzSifk2pHqzH",
        "outputId": "e63326eb-cb62-4150-96f1-09cded08fab7"
      },
      "execution_count": 24,
      "outputs": [
        {
          "output_type": "error",
          "ename": "NameError",
          "evalue": "name 'a' is not defined",
          "traceback": [
            "\u001b[0;31m---------------------------------------------------------------------------\u001b[0m",
            "\u001b[0;31mNameError\u001b[0m                                 Traceback (most recent call last)",
            "\u001b[0;32m<ipython-input-24-d8c9d4073f66>\u001b[0m in \u001b[0;36m<cell line: 2>\u001b[0;34m()\u001b[0m\n\u001b[1;32m      1\u001b[0m \u001b[0;31m#if/else\u001b[0m\u001b[0;34m\u001b[0m\u001b[0;34m\u001b[0m\u001b[0m\n\u001b[0;32m----> 2\u001b[0;31m \u001b[0;32mif\u001b[0m \u001b[0ma\u001b[0m\u001b[0;34m==\u001b[0m\u001b[0;36m3\u001b[0m\u001b[0;34m:\u001b[0m\u001b[0;34m\u001b[0m\u001b[0;34m\u001b[0m\u001b[0m\n\u001b[0m\u001b[1;32m      3\u001b[0m   \u001b[0mprint\u001b[0m\u001b[0;34m(\u001b[0m\u001b[0;34m'yes'\u001b[0m\u001b[0;34m)\u001b[0m\u001b[0;34m\u001b[0m\u001b[0;34m\u001b[0m\u001b[0m\n\u001b[1;32m      4\u001b[0m \u001b[0;32melse\u001b[0m\u001b[0;34m:\u001b[0m\u001b[0;34m\u001b[0m\u001b[0;34m\u001b[0m\u001b[0m\n\u001b[1;32m      5\u001b[0m   \u001b[0mprint\u001b[0m\u001b[0;34m(\u001b[0m\u001b[0;34m'no'\u001b[0m\u001b[0;34m)\u001b[0m\u001b[0;34m\u001b[0m\u001b[0;34m\u001b[0m\u001b[0m\n",
            "\u001b[0;31mNameError\u001b[0m: name 'a' is not defined"
          ]
        }
      ]
    },
    {
      "cell_type": "code",
      "source": [
        "#for loop\n",
        "my_list = ['abc', 'aac', 'afg']\n",
        "for i in my_list:\n",
        "  print(i)"
      ],
      "metadata": {
        "colab": {
          "base_uri": "https://localhost:8080/"
        },
        "id": "tBEJogQcIvGT",
        "outputId": "e97bd47c-8fbf-45e7-a19a-af011b1f5735"
      },
      "execution_count": 25,
      "outputs": [
        {
          "output_type": "stream",
          "name": "stdout",
          "text": [
            "abc\n",
            "aac\n",
            "afg\n"
          ]
        }
      ]
    }
  ]
}